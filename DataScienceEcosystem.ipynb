{
 "cells": [
  {
   "cell_type": "markdown",
   "id": "46387f25-14d4-4453-ba81-dd132b865162",
   "metadata": {},
   "source": [
    "# Data Science Tools and Ecosystem"
   ]
  },
  {
   "cell_type": "markdown",
   "id": "165d08fb-4de1-4771-9db4-b82aaf781370",
   "metadata": {},
   "source": [
    "**Objectives:**\n",
    "\n",
    "+ Create a markdown cell for an introduction\n",
    "+ Create a markdown cell to list data science libraries\n",
    "+ Create a markdown cell with a table of Data Science tools\n",
    "+ Create a code cell to multiply and add numbers\n",
    "+ Insert a markdown cell to list Objectives"
   ]
  },
  {
   "cell_type": "markdown",
   "id": "2b428c34-abf3-488f-b36e-2f1f03f14a48",
   "metadata": {},
   "source": [
    "In this notebook, Data Science Tools and Ecosystem are summarized."
   ]
  },
  {
   "cell_type": "markdown",
   "id": "21d3e216-4880-48b4-9a2c-87e39d09280c",
   "metadata": {},
   "source": [
    "Some of the popular languages that Data Scientists use are:\n",
    "\n",
    "1. Python\n",
    "2. R\n",
    "3. SQL\n",
    "4. JavaScript\n",
    "5. Neo4J\n",
    "\n",
    "    \n"
   ]
  },
  {
   "cell_type": "markdown",
   "id": "c6d3acf7-6809-440f-a34c-80cc14c6e95e",
   "metadata": {},
   "source": [
    "Some of the commonly used libraries used by Data Scientists include:\n",
    "1. NumPy\n",
    "2. Pandas\n",
    "3. PyTorch\n",
    "4. Keras"
   ]
  },
  {
   "cell_type": "markdown",
   "id": "9e324431-7723-4641-85ee-19a6b9d56390",
   "metadata": {},
   "source": [
    "| Data Science Tools |\n",
    "|-------|\n",
    "| Apache Spark |\n",
    "| Apache Hadoop |\n",
    "| Matplotlib |\n",
    "| TensorFlow |\n",
    "\n"
   ]
  },
  {
   "cell_type": "markdown",
   "id": "02eb703c-3e6d-4ad5-8dff-853c7bba5222",
   "metadata": {},
   "source": [
    "### Demonstrating Python methodology and possibilities about arithmetic expressions. "
   ]
  },
  {
   "cell_type": "code",
   "execution_count": 3,
   "id": "526cfd5c-1ab4-4768-b596-5563f029dfef",
   "metadata": {
    "tags": []
   },
   "outputs": [
    {
     "data": {
      "text/plain": [
       "17"
      ]
     },
     "execution_count": 3,
     "metadata": {},
     "output_type": "execute_result"
    }
   ],
   "source": [
    "##  A simple calculation will suffice to initiate the demonstration\n",
    "\n",
    "(3*4)+5"
   ]
  },
  {
   "cell_type": "code",
   "execution_count": 4,
   "id": "15b3a42e-983e-4ecb-84f5-8731ddee5d9a",
   "metadata": {
    "tags": []
   },
   "outputs": [
    {
     "data": {
      "text/plain": [
       "3.3333333333333335"
      ]
     },
     "execution_count": 4,
     "metadata": {},
     "output_type": "execute_result"
    }
   ],
   "source": [
    "## Dividing the given 200 minutes from the question header by 60, this operation returns how many hours 200 minutes represent.\n",
    "\n",
    "200/60"
   ]
  },
  {
   "cell_type": "markdown",
   "id": "653f06e4-d6a8-452a-b764-17127ec0725b",
   "metadata": {},
   "source": [
    "## Author \n",
    "Jules VALETOUX"
   ]
  }
 ],
 "metadata": {
  "kernelspec": {
   "display_name": "Python",
   "language": "python",
   "name": "conda-env-python-py"
  },
  "language_info": {
   "codemirror_mode": {
    "name": "ipython",
    "version": 3
   },
   "file_extension": ".py",
   "mimetype": "text/x-python",
   "name": "python",
   "nbconvert_exporter": "python",
   "pygments_lexer": "ipython3",
   "version": "3.7.12"
  }
 },
 "nbformat": 4,
 "nbformat_minor": 5
}
